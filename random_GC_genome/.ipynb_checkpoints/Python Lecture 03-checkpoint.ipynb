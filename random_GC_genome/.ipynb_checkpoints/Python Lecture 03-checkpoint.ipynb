{
 "metadata": {
  "name": ""
 },
 "nbformat": 3,
 "nbformat_minor": 0,
 "worksheets": [
  {
   "cells": [
    {
     "cell_type": "markdown",
     "metadata": {},
     "source": [
      "### Defining Functions\n",
      "\n",
      "We've sort of covered this, but I thought it should be a bit more formalized."
     ]
    },
    {
     "cell_type": "code",
     "collapsed": false,
     "input": [
      "def function_name(variable1, variable2, variable3='default value'):\n",
      "    # Do stuff with variables\n",
      "    # return the result often as a tuple if there are multiple values\n",
      "    return variable1"
     ],
     "language": "python",
     "metadata": {},
     "outputs": []
    },
    {
     "cell_type": "markdown",
     "metadata": {},
     "source": [
      "### Generator Functions\n",
      "\n",
      "Really useful when working with large files. Can process line by line without reading in the entire file into memory."
     ]
    },
    {
     "cell_type": "code",
     "collapsed": false,
     "input": [
      "def function_name(big_iterable):\n",
      "    for i in big_iterable:\n",
      "        # do something to i\n",
      "        yield i\n",
      "\n",
      "x=range(0,11)\n",
      "z = function_name(x)\n",
      "print z.next()\n",
      "print z.next()"
     ],
     "language": "python",
     "metadata": {},
     "outputs": [
      {
       "output_type": "stream",
       "stream": "stdout",
       "text": [
        "0\n",
        "1\n"
       ]
      }
     ],
     "prompt_number": 5
    },
    {
     "cell_type": "markdown",
     "metadata": {},
     "source": [
      "### List Comprehensions\n",
      "\n",
      "A fast and easy way to apply a function to an iterable. Can also be used to filter iterables."
     ]
    },
    {
     "cell_type": "code",
     "collapsed": false,
     "input": [
      "x = range(5,16)\n",
      "print x\n",
      "print [i + 3 for i in x if i != 7]"
     ],
     "language": "python",
     "metadata": {},
     "outputs": [
      {
       "output_type": "stream",
       "stream": "stdout",
       "text": [
        "[5, 6, 7, 8, 9, 10, 11, 12, 13, 14, 15]\n",
        "[8, 9, 11, 12, 13, 14, 15, 16, 17, 18]\n"
       ]
      }
     ],
     "prompt_number": 9
    },
    {
     "cell_type": "markdown",
     "metadata": {},
     "source": [
      "### Project: Generate a pseudo genome as a fasta file.\n",
      "\n",
      "* Step 1. Randomly select A,T,C,G\n",
      "* Step 2. Apply a particular GC content.\n",
      "* Step 3. Save the output to a properly formated fasta file."
     ]
    },
    {
     "cell_type": "code",
     "collapsed": false,
     "input": [
      "##This function generates a random sequence of length 'length' with proportion GC 'GC'\n",
      "\n",
      "import random\n",
      "import re\n",
      "\n",
      "def generateGC(length, GC):\n",
      "    txt = ''\n",
      "    for i in range(length):\n",
      "        x = random.random()\n",
      "        if x < GC:\n",
      "            base = random.choice('GC')\n",
      "        else:\n",
      "            base = random.choice('AT')\n",
      "        txt = txt+base    \n",
      "    return txt\n",
      "\n",
      "#Call the function, specifying the length and GC content\n",
      "length = 301\n",
      "GC = 0.5\n",
      "seq = generateGC(length, GC)\n",
      "\n",
      "#Now, let's search for a particular sequence in the generated sequence\n",
      "query = 'GATC'\n",
      "find = [m.start() for m in re.finditer(query, seq)] #m.start returns the index of the starting position of the query\n",
      "num_occurences = len(find)\n",
      "\n",
      "\n",
      "#######Write result to file#########\n",
      "outfile = open('randomGC.txt', 'w')\n",
      "#write a header\n",
      "outfile.write('>randomGC_'+str(GC)+'_length_'+str(length)+'\\n')\n",
      "\n",
      "#to write the sequence in 80-character lines, \n",
      "#determine the remainder \n",
      "\n",
      "#METHOD 1\n",
      "#remainder = length%80.\n",
      "#lines = length/80\n",
      "#start = 0\n",
      "#stop = 80\n",
      "    \n",
      "#for i in range(lines):\n",
      "#    outfile.write(seq[start:stop]+'\\n')\n",
      "#    start +=80\n",
      "#    stop += 80\n",
      "#if remainder != 0:\n",
      "#    outfile.write(seq[start:len(seq)])\n",
      "\n",
      "    \n",
      "#METHOD 2    \n",
      "write = ''\n",
      "for i in range(len(seq)):\n",
      "    remainder = i%80\n",
      "    if remainder == 0:\n",
      "        outfile.write(write+'\\n')\n",
      "        write = ''\n",
      "        write = write + seq[i]\n",
      "    else:\n",
      "        write = write + seq[i]\n",
      "    if i == len(seq) -1:\n",
      "        outfile.write(write+'\\n')\n",
      "\n",
      "\n",
      "outfile.close()\n",
      "\n",
      "    \n"
     ],
     "language": "python",
     "metadata": {},
     "outputs": [],
     "prompt_number": 33
    },
    {
     "cell_type": "code",
     "collapsed": false,
     "input": [],
     "language": "python",
     "metadata": {},
     "outputs": [],
     "prompt_number": 24
    },
    {
     "cell_type": "code",
     "collapsed": false,
     "input": [],
     "language": "python",
     "metadata": {},
     "outputs": []
    }
   ],
   "metadata": {}
  }
 ]
}